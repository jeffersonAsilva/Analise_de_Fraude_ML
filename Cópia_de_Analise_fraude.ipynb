{
  "cells": [
    {
      "cell_type": "markdown",
      "metadata": {
        "id": "-eWji8Tu6nZs"
      },
      "source": [
        "##Análise de Fraude\n",
        "\n",
        "Objetivo deste projeto e avaliar dataset com modelo de Regressão Logistica, não vamos compara-lo a outros modelos porque este não é objetivo nossa variável de estudo apresenta a característica categorica binária.O dataset de estudo se encontra no link.'https://www.kaggle.com/datasets/mlg-ulb/creditcardfraud'."
      ]
    },
    {
      "cell_type": "code",
      "execution_count": 2,
      "metadata": {
        "id": "5IwmaAsP5P3w"
      },
      "outputs": [],
      "source": [
        "#Importação dos pacotes\n",
        "import numpy as np\n",
        "import pandas as pd\n",
        "from sklearn.model_selection import RepeatedStratifiedKFold\n",
        "from numpy import mean\n",
        "from numpy import std\n",
        "from sklearn.model_selection import cross_val_score\n",
        "from xgboost import XGBClassifier\n",
        "from sklearn.linear_model import LogisticRegression\n",
        "from sklearn.model_selection import train_test_split\n",
        "from sklearn.metrics import confusion_matrix, classification_report\n",
        "from sklearn.preprocessing import StandardScaler\n",
        "from matplotlib import pyplot as plt\n",
        "from imblearn.over_sampling import SMOTE\n",
        "from imblearn.under_sampling import NearMiss"
      ]
    },
    {
      "cell_type": "code",
      "execution_count": 3,
      "metadata": {
        "colab": {
          "base_uri": "https://localhost:8080/",
          "height": 300
        },
        "id": "subsaE1R_Mt_",
        "outputId": "d57a4e64-3abd-4f38-d259-1606feb91f52"
      },
      "outputs": [
        {
          "data": {
            "text/html": [
              "\n",
              "\n",
              "  <div id=\"df-641e7780-2358-448c-bf07-a4a95315417f\">\n",
              "    <div class=\"colab-df-container\">\n",
              "      <div>\n",
              "<style scoped>\n",
              "    .dataframe tbody tr th:only-of-type {\n",
              "        vertical-align: middle;\n",
              "    }\n",
              "\n",
              "    .dataframe tbody tr th {\n",
              "        vertical-align: top;\n",
              "    }\n",
              "\n",
              "    .dataframe thead th {\n",
              "        text-align: right;\n",
              "    }\n",
              "</style>\n",
              "<table border=\"1\" class=\"dataframe\">\n",
              "  <thead>\n",
              "    <tr style=\"text-align: right;\">\n",
              "      <th></th>\n",
              "      <th>Time</th>\n",
              "      <th>V1</th>\n",
              "      <th>V2</th>\n",
              "      <th>V3</th>\n",
              "      <th>V4</th>\n",
              "      <th>V5</th>\n",
              "      <th>V6</th>\n",
              "      <th>V7</th>\n",
              "      <th>V8</th>\n",
              "      <th>V9</th>\n",
              "      <th>...</th>\n",
              "      <th>V21</th>\n",
              "      <th>V22</th>\n",
              "      <th>V23</th>\n",
              "      <th>V24</th>\n",
              "      <th>V25</th>\n",
              "      <th>V26</th>\n",
              "      <th>V27</th>\n",
              "      <th>V28</th>\n",
              "      <th>Amount</th>\n",
              "      <th>Class</th>\n",
              "    </tr>\n",
              "  </thead>\n",
              "  <tbody>\n",
              "    <tr>\n",
              "      <th>0</th>\n",
              "      <td>0.0</td>\n",
              "      <td>-1.359807</td>\n",
              "      <td>-0.072781</td>\n",
              "      <td>2.536347</td>\n",
              "      <td>1.378155</td>\n",
              "      <td>-0.338321</td>\n",
              "      <td>0.462388</td>\n",
              "      <td>0.239599</td>\n",
              "      <td>0.098698</td>\n",
              "      <td>0.363787</td>\n",
              "      <td>...</td>\n",
              "      <td>-0.018307</td>\n",
              "      <td>0.277838</td>\n",
              "      <td>-0.110474</td>\n",
              "      <td>0.066928</td>\n",
              "      <td>0.128539</td>\n",
              "      <td>-0.189115</td>\n",
              "      <td>0.133558</td>\n",
              "      <td>-0.021053</td>\n",
              "      <td>149.62</td>\n",
              "      <td>0</td>\n",
              "    </tr>\n",
              "    <tr>\n",
              "      <th>1</th>\n",
              "      <td>0.0</td>\n",
              "      <td>1.191857</td>\n",
              "      <td>0.266151</td>\n",
              "      <td>0.166480</td>\n",
              "      <td>0.448154</td>\n",
              "      <td>0.060018</td>\n",
              "      <td>-0.082361</td>\n",
              "      <td>-0.078803</td>\n",
              "      <td>0.085102</td>\n",
              "      <td>-0.255425</td>\n",
              "      <td>...</td>\n",
              "      <td>-0.225775</td>\n",
              "      <td>-0.638672</td>\n",
              "      <td>0.101288</td>\n",
              "      <td>-0.339846</td>\n",
              "      <td>0.167170</td>\n",
              "      <td>0.125895</td>\n",
              "      <td>-0.008983</td>\n",
              "      <td>0.014724</td>\n",
              "      <td>2.69</td>\n",
              "      <td>0</td>\n",
              "    </tr>\n",
              "    <tr>\n",
              "      <th>2</th>\n",
              "      <td>1.0</td>\n",
              "      <td>-1.358354</td>\n",
              "      <td>-1.340163</td>\n",
              "      <td>1.773209</td>\n",
              "      <td>0.379780</td>\n",
              "      <td>-0.503198</td>\n",
              "      <td>1.800499</td>\n",
              "      <td>0.791461</td>\n",
              "      <td>0.247676</td>\n",
              "      <td>-1.514654</td>\n",
              "      <td>...</td>\n",
              "      <td>0.247998</td>\n",
              "      <td>0.771679</td>\n",
              "      <td>0.909412</td>\n",
              "      <td>-0.689281</td>\n",
              "      <td>-0.327642</td>\n",
              "      <td>-0.139097</td>\n",
              "      <td>-0.055353</td>\n",
              "      <td>-0.059752</td>\n",
              "      <td>378.66</td>\n",
              "      <td>0</td>\n",
              "    </tr>\n",
              "    <tr>\n",
              "      <th>3</th>\n",
              "      <td>1.0</td>\n",
              "      <td>-0.966272</td>\n",
              "      <td>-0.185226</td>\n",
              "      <td>1.792993</td>\n",
              "      <td>-0.863291</td>\n",
              "      <td>-0.010309</td>\n",
              "      <td>1.247203</td>\n",
              "      <td>0.237609</td>\n",
              "      <td>0.377436</td>\n",
              "      <td>-1.387024</td>\n",
              "      <td>...</td>\n",
              "      <td>-0.108300</td>\n",
              "      <td>0.005274</td>\n",
              "      <td>-0.190321</td>\n",
              "      <td>-1.175575</td>\n",
              "      <td>0.647376</td>\n",
              "      <td>-0.221929</td>\n",
              "      <td>0.062723</td>\n",
              "      <td>0.061458</td>\n",
              "      <td>123.50</td>\n",
              "      <td>0</td>\n",
              "    </tr>\n",
              "    <tr>\n",
              "      <th>4</th>\n",
              "      <td>2.0</td>\n",
              "      <td>-1.158233</td>\n",
              "      <td>0.877737</td>\n",
              "      <td>1.548718</td>\n",
              "      <td>0.403034</td>\n",
              "      <td>-0.407193</td>\n",
              "      <td>0.095921</td>\n",
              "      <td>0.592941</td>\n",
              "      <td>-0.270533</td>\n",
              "      <td>0.817739</td>\n",
              "      <td>...</td>\n",
              "      <td>-0.009431</td>\n",
              "      <td>0.798278</td>\n",
              "      <td>-0.137458</td>\n",
              "      <td>0.141267</td>\n",
              "      <td>-0.206010</td>\n",
              "      <td>0.502292</td>\n",
              "      <td>0.219422</td>\n",
              "      <td>0.215153</td>\n",
              "      <td>69.99</td>\n",
              "      <td>0</td>\n",
              "    </tr>\n",
              "  </tbody>\n",
              "</table>\n",
              "<p>5 rows × 31 columns</p>\n",
              "</div>\n",
              "      <button class=\"colab-df-convert\" onclick=\"convertToInteractive('df-641e7780-2358-448c-bf07-a4a95315417f')\"\n",
              "              title=\"Convert this dataframe to an interactive table.\"\n",
              "              style=\"display:none;\">\n",
              "\n",
              "  <svg xmlns=\"http://www.w3.org/2000/svg\" height=\"24px\"viewBox=\"0 0 24 24\"\n",
              "       width=\"24px\">\n",
              "    <path d=\"M0 0h24v24H0V0z\" fill=\"none\"/>\n",
              "    <path d=\"M18.56 5.44l.94 2.06.94-2.06 2.06-.94-2.06-.94-.94-2.06-.94 2.06-2.06.94zm-11 1L8.5 8.5l.94-2.06 2.06-.94-2.06-.94L8.5 2.5l-.94 2.06-2.06.94zm10 10l.94 2.06.94-2.06 2.06-.94-2.06-.94-.94-2.06-.94 2.06-2.06.94z\"/><path d=\"M17.41 7.96l-1.37-1.37c-.4-.4-.92-.59-1.43-.59-.52 0-1.04.2-1.43.59L10.3 9.45l-7.72 7.72c-.78.78-.78 2.05 0 2.83L4 21.41c.39.39.9.59 1.41.59.51 0 1.02-.2 1.41-.59l7.78-7.78 2.81-2.81c.8-.78.8-2.07 0-2.86zM5.41 20L4 18.59l7.72-7.72 1.47 1.35L5.41 20z\"/>\n",
              "  </svg>\n",
              "      </button>\n",
              "\n",
              "\n",
              "\n",
              "    <div id=\"df-fe4dced4-b70a-4f05-93aa-e95935438ad2\">\n",
              "      <button class=\"colab-df-quickchart\" onclick=\"quickchart('df-fe4dced4-b70a-4f05-93aa-e95935438ad2')\"\n",
              "              title=\"Suggest charts.\"\n",
              "              style=\"display:none;\">\n",
              "\n",
              "<svg xmlns=\"http://www.w3.org/2000/svg\" height=\"24px\"viewBox=\"0 0 24 24\"\n",
              "     width=\"24px\">\n",
              "    <g>\n",
              "        <path d=\"M19 3H5c-1.1 0-2 .9-2 2v14c0 1.1.9 2 2 2h14c1.1 0 2-.9 2-2V5c0-1.1-.9-2-2-2zM9 17H7v-7h2v7zm4 0h-2V7h2v10zm4 0h-2v-4h2v4z\"/>\n",
              "    </g>\n",
              "</svg>\n",
              "      </button>\n",
              "    </div>\n",
              "\n",
              "<style>\n",
              "  .colab-df-quickchart {\n",
              "    background-color: #E8F0FE;\n",
              "    border: none;\n",
              "    border-radius: 50%;\n",
              "    cursor: pointer;\n",
              "    display: none;\n",
              "    fill: #1967D2;\n",
              "    height: 32px;\n",
              "    padding: 0 0 0 0;\n",
              "    width: 32px;\n",
              "  }\n",
              "\n",
              "  .colab-df-quickchart:hover {\n",
              "    background-color: #E2EBFA;\n",
              "    box-shadow: 0px 1px 2px rgba(60, 64, 67, 0.3), 0px 1px 3px 1px rgba(60, 64, 67, 0.15);\n",
              "    fill: #174EA6;\n",
              "  }\n",
              "\n",
              "  [theme=dark] .colab-df-quickchart {\n",
              "    background-color: #3B4455;\n",
              "    fill: #D2E3FC;\n",
              "  }\n",
              "\n",
              "  [theme=dark] .colab-df-quickchart:hover {\n",
              "    background-color: #434B5C;\n",
              "    box-shadow: 0px 1px 3px 1px rgba(0, 0, 0, 0.15);\n",
              "    filter: drop-shadow(0px 1px 2px rgba(0, 0, 0, 0.3));\n",
              "    fill: #FFFFFF;\n",
              "  }\n",
              "</style>\n",
              "\n",
              "    <script>\n",
              "      async function quickchart(key) {\n",
              "        const containerElement = document.querySelector('#' + key);\n",
              "        const charts = await google.colab.kernel.invokeFunction(\n",
              "            'suggestCharts', [key], {});\n",
              "      }\n",
              "    </script>\n",
              "\n",
              "      <script>\n",
              "\n",
              "function displayQuickchartButton(domScope) {\n",
              "  let quickchartButtonEl =\n",
              "    domScope.querySelector('#df-fe4dced4-b70a-4f05-93aa-e95935438ad2 button.colab-df-quickchart');\n",
              "  quickchartButtonEl.style.display =\n",
              "    google.colab.kernel.accessAllowed ? 'block' : 'none';\n",
              "}\n",
              "\n",
              "        displayQuickchartButton(document);\n",
              "      </script>\n",
              "      <style>\n",
              "    .colab-df-container {\n",
              "      display:flex;\n",
              "      flex-wrap:wrap;\n",
              "      gap: 12px;\n",
              "    }\n",
              "\n",
              "    .colab-df-convert {\n",
              "      background-color: #E8F0FE;\n",
              "      border: none;\n",
              "      border-radius: 50%;\n",
              "      cursor: pointer;\n",
              "      display: none;\n",
              "      fill: #1967D2;\n",
              "      height: 32px;\n",
              "      padding: 0 0 0 0;\n",
              "      width: 32px;\n",
              "    }\n",
              "\n",
              "    .colab-df-convert:hover {\n",
              "      background-color: #E2EBFA;\n",
              "      box-shadow: 0px 1px 2px rgba(60, 64, 67, 0.3), 0px 1px 3px 1px rgba(60, 64, 67, 0.15);\n",
              "      fill: #174EA6;\n",
              "    }\n",
              "\n",
              "    [theme=dark] .colab-df-convert {\n",
              "      background-color: #3B4455;\n",
              "      fill: #D2E3FC;\n",
              "    }\n",
              "\n",
              "    [theme=dark] .colab-df-convert:hover {\n",
              "      background-color: #434B5C;\n",
              "      box-shadow: 0px 1px 3px 1px rgba(0, 0, 0, 0.15);\n",
              "      filter: drop-shadow(0px 1px 2px rgba(0, 0, 0, 0.3));\n",
              "      fill: #FFFFFF;\n",
              "    }\n",
              "  </style>\n",
              "\n",
              "      <script>\n",
              "        const buttonEl =\n",
              "          document.querySelector('#df-641e7780-2358-448c-bf07-a4a95315417f button.colab-df-convert');\n",
              "        buttonEl.style.display =\n",
              "          google.colab.kernel.accessAllowed ? 'block' : 'none';\n",
              "\n",
              "        async function convertToInteractive(key) {\n",
              "          const element = document.querySelector('#df-641e7780-2358-448c-bf07-a4a95315417f');\n",
              "          const dataTable =\n",
              "            await google.colab.kernel.invokeFunction('convertToInteractive',\n",
              "                                                     [key], {});\n",
              "          if (!dataTable) return;\n",
              "\n",
              "          const docLinkHtml = 'Like what you see? Visit the ' +\n",
              "            '<a target=\"_blank\" href=https://colab.research.google.com/notebooks/data_table.ipynb>data table notebook</a>'\n",
              "            + ' to learn more about interactive tables.';\n",
              "          element.innerHTML = '';\n",
              "          dataTable['output_type'] = 'display_data';\n",
              "          await google.colab.output.renderOutput(dataTable, element);\n",
              "          const docLink = document.createElement('div');\n",
              "          docLink.innerHTML = docLinkHtml;\n",
              "          element.appendChild(docLink);\n",
              "        }\n",
              "      </script>\n",
              "    </div>\n",
              "  </div>\n"
            ],
            "text/plain": [
              "   Time        V1        V2        V3        V4        V5        V6        V7  \\\n",
              "0   0.0 -1.359807 -0.072781  2.536347  1.378155 -0.338321  0.462388  0.239599   \n",
              "1   0.0  1.191857  0.266151  0.166480  0.448154  0.060018 -0.082361 -0.078803   \n",
              "2   1.0 -1.358354 -1.340163  1.773209  0.379780 -0.503198  1.800499  0.791461   \n",
              "3   1.0 -0.966272 -0.185226  1.792993 -0.863291 -0.010309  1.247203  0.237609   \n",
              "4   2.0 -1.158233  0.877737  1.548718  0.403034 -0.407193  0.095921  0.592941   \n",
              "\n",
              "         V8        V9  ...       V21       V22       V23       V24       V25  \\\n",
              "0  0.098698  0.363787  ... -0.018307  0.277838 -0.110474  0.066928  0.128539   \n",
              "1  0.085102 -0.255425  ... -0.225775 -0.638672  0.101288 -0.339846  0.167170   \n",
              "2  0.247676 -1.514654  ...  0.247998  0.771679  0.909412 -0.689281 -0.327642   \n",
              "3  0.377436 -1.387024  ... -0.108300  0.005274 -0.190321 -1.175575  0.647376   \n",
              "4 -0.270533  0.817739  ... -0.009431  0.798278 -0.137458  0.141267 -0.206010   \n",
              "\n",
              "        V26       V27       V28  Amount  Class  \n",
              "0 -0.189115  0.133558 -0.021053  149.62      0  \n",
              "1  0.125895 -0.008983  0.014724    2.69      0  \n",
              "2 -0.139097 -0.055353 -0.059752  378.66      0  \n",
              "3 -0.221929  0.062723  0.061458  123.50      0  \n",
              "4  0.502292  0.219422  0.215153   69.99      0  \n",
              "\n",
              "[5 rows x 31 columns]"
            ]
          },
          "execution_count": 3,
          "metadata": {},
          "output_type": "execute_result"
        }
      ],
      "source": [
        "#importação do banco de dados\n",
        "\n",
        "data=pd.read_csv('https://raw.githubusercontent.com/nsethi31/Kaggle-Data-Credit-Card-Fraud-Detection/master/creditcard.csv')\n",
        "data.head()"
      ]
    },
    {
      "cell_type": "markdown",
      "metadata": {
        "id": "D99eLbzDAAyN"
      },
      "source": [
        "Ao observarmos os dados acima notamos que a variável Amount  não está padronizada, portanto é proximo passo a seguir."
      ]
    },
    {
      "cell_type": "code",
      "execution_count": 4,
      "metadata": {
        "id": "Zukjw9TaAeGl"
      },
      "outputs": [],
      "source": [
        "#padronização da variavel Amount\n",
        "data['normAmount'] = StandardScaler().fit_transform(np.array(data['Amount']).reshape(-1, 1))\n"
      ]
    },
    {
      "cell_type": "code",
      "execution_count": 5,
      "metadata": {
        "id": "KNxa4b0-BQ8U"
      },
      "outputs": [],
      "source": [
        "#drop das variáveis que não serão utilizadas\n",
        "data = data.drop(['Time', 'Amount'], axis = 1)"
      ]
    },
    {
      "cell_type": "code",
      "execution_count": 6,
      "metadata": {
        "colab": {
          "base_uri": "https://localhost:8080/"
        },
        "id": "GfFmGnn3Bakm",
        "outputId": "93cf3b71-a8a6-400f-c8cc-a7ba79bbbebe"
      },
      "outputs": [
        {
          "name": "stdout",
          "output_type": "stream",
          "text": [
            "<class 'pandas.core.frame.DataFrame'>\n",
            "RangeIndex: 284807 entries, 0 to 284806\n",
            "Data columns (total 30 columns):\n",
            " #   Column      Non-Null Count   Dtype  \n",
            "---  ------      --------------   -----  \n",
            " 0   V1          284807 non-null  float64\n",
            " 1   V2          284807 non-null  float64\n",
            " 2   V3          284807 non-null  float64\n",
            " 3   V4          284807 non-null  float64\n",
            " 4   V5          284807 non-null  float64\n",
            " 5   V6          284807 non-null  float64\n",
            " 6   V7          284807 non-null  float64\n",
            " 7   V8          284807 non-null  float64\n",
            " 8   V9          284807 non-null  float64\n",
            " 9   V10         284807 non-null  float64\n",
            " 10  V11         284807 non-null  float64\n",
            " 11  V12         284807 non-null  float64\n",
            " 12  V13         284807 non-null  float64\n",
            " 13  V14         284807 non-null  float64\n",
            " 14  V15         284807 non-null  float64\n",
            " 15  V16         284807 non-null  float64\n",
            " 16  V17         284807 non-null  float64\n",
            " 17  V18         284807 non-null  float64\n",
            " 18  V19         284807 non-null  float64\n",
            " 19  V20         284807 non-null  float64\n",
            " 20  V21         284807 non-null  float64\n",
            " 21  V22         284807 non-null  float64\n",
            " 22  V23         284807 non-null  float64\n",
            " 23  V24         284807 non-null  float64\n",
            " 24  V25         284807 non-null  float64\n",
            " 25  V26         284807 non-null  float64\n",
            " 26  V27         284807 non-null  float64\n",
            " 27  V28         284807 non-null  float64\n",
            " 28  Class       284807 non-null  int64  \n",
            " 29  normAmount  284807 non-null  float64\n",
            "dtypes: float64(29), int64(1)\n",
            "memory usage: 65.2 MB\n",
            "None\n"
          ]
        }
      ],
      "source": [
        "#verificando valores nulos\n",
        "print(data.info())"
      ]
    },
    {
      "cell_type": "markdown",
      "metadata": {
        "id": "lUDpl3PcBq4q"
      },
      "source": [
        "Como observado acima o dataset não apresenta valores nulos."
      ]
    },
    {
      "cell_type": "code",
      "execution_count": 7,
      "metadata": {
        "colab": {
          "base_uri": "https://localhost:8080/"
        },
        "id": "0VtG1G4TB3uk",
        "outputId": "784e29c1-aa06-43f7-daee-9b993a2832f3"
      },
      "outputs": [
        {
          "data": {
            "text/plain": [
              "0    284315\n",
              "1       492\n",
              "Name: Class, dtype: int64"
            ]
          },
          "execution_count": 7,
          "metadata": {},
          "output_type": "execute_result"
        }
      ],
      "source": [
        "#observando class fraude\n",
        "data['Class'].value_counts()"
      ]
    },
    {
      "cell_type": "code",
      "execution_count": null,
      "metadata": {
        "colab": {
          "base_uri": "https://localhost:8080/",
          "height": 423
        },
        "id": "FK2j1_l4zJ3L",
        "outputId": "edd7d2b9-adde-4bfe-a1a7-25f3d90f44f2"
      },
      "outputs": [
        {
          "data": {
            "image/png": "[encoded data removed]",
            "text/plain": [
              "<Figure size 480x480 with 1 Axes>"
            ]
          },
          "metadata": {},
          "output_type": "display_data"
        }
      ],
      "source": [
        "#data['Class'].value_counts().plot(kind='bar', title='Numero de fraudes = 1');\n",
        "fig, ax = plt.subplots(figsize=(16,10), facecolor='white', dpi= 80)\n",
        "ax.set_title('Número de transações com Fraude', fontdict={'size':15})\n",
        "data['Class'].value_counts().plot.pie(\n",
        "\n",
        "    labels=[\"0\", \"1\"],\n",
        "\n",
        "    colors=[\"r\", \"g\", \"b\", \"c\"],\n",
        "\n",
        "    autopct='%1.2f%%',\n",
        "\n",
        "    fontsize=20,\n",
        "\n",
        "    figsize=(6, 6),\n",
        "\n",
        ");\n",
        "plt.show()"
      ]
    },
    {
      "cell_type": "markdown",
      "metadata": {
        "id": "FyN0OkDeCGU7"
      },
      "source": [
        "É nitido que nossas classes estão desbalanceadas, se apenas aplicamos a modelagem sem tirar esse desbalanceamento teremos problemas quanto a classificação de nosso modelo. Aplicaremos duas técnicas a seguir uma de undersampling e oversampling."
      ]
    },
    {
      "cell_type": "markdown",
      "metadata": {
        "id": "eHCijhmCDeR1"
      },
      "source": [
        "##UNDERSAMPLING NEARMISS\n",
        "\n",
        "Vamos começar aplicando o método que diminui a quantidade de observações com maior número de classificação, afim de equalizar."
      ]
    },
    {
      "cell_type": "code",
      "execution_count": 9,
      "metadata": {
        "colab": {
          "base_uri": "https://localhost:8080/"
        },
        "id": "pkp35hEqD98b",
        "outputId": "e76cfcb4-8623-4dad-f3b6-7c099cbd96b7"
      },
      "outputs": [
        {
          "name": "stdout",
          "output_type": "stream",
          "text": [
            "              precision    recall  f1-score   support\n",
            "\n",
            "           0       0.93      0.98      0.95        92\n",
            "           1       0.98      0.93      0.96       105\n",
            "\n",
            "    accuracy                           0.95       197\n",
            "   macro avg       0.95      0.96      0.95       197\n",
            "weighted avg       0.96      0.95      0.95       197\n",
            "\n",
            "Acuracia com CV: 0.951 (0.020)\n"
          ]
        }
      ],
      "source": [
        "#separando os dados entre X as variáveis preditoras e y a variável resposta.\n",
        "\n",
        "X=data.drop(['Class'],axis=1)\n",
        "y=data.iloc[:,28]\n",
        "\n",
        "\n",
        "#aplicando a técnica de undersampling NearMiss.\n",
        "\n",
        "nm=NearMiss(version=1)\n",
        "\n",
        "X_under,y_under=nm.fit_resample(X,y)\n",
        "\n",
        "#separando conjunto de dados em treino e teste em 80/20.\n",
        "\n",
        "X_train, X_test, y_train, y_test = train_test_split(X_under,y_under, test_size = 0.2, random_state = 5)\n",
        "\n",
        "#aplicando ao modelo para obter a acuracia e recall  junto com matriz de confusão\n",
        "\n",
        "modelo=LogisticRegression(max_iter=1000)\n",
        "\n",
        "#validação cruzada para classes desbalanceadas RepeatedStratifiedKFold\n",
        "cv=RepeatedStratifiedKFold(n_splits=10, n_repeats=3, random_state=5)\n",
        "\n",
        "scores = cross_val_score(modelo,X_under,y_under, scoring='accuracy', cv=cv, n_jobs=-1)\n",
        "\n",
        "\n",
        "#treino modelo\n",
        "modelo.fit(X_train,y_train)\n",
        "pred=modelo.predict(X_test)\n",
        "\n",
        "print(classification_report(y_test, pred))\n",
        "print('Acuracia com CV: %.3f (%.3f)' % (mean(scores), std(scores)))\n"
      ]
    },
    {
      "cell_type": "code",
      "execution_count": 10,
      "metadata": {
        "colab": {
          "base_uri": "https://localhost:8080/",
          "height": 425
        },
        "id": "fSZKYD-V3zU6",
        "outputId": "af3fcda3-ca7e-45ab-aab2-076d2ab9d70c"
      },
      "outputs": [
        {
          "data": {
            "image/png": "[encoded data removed]",
            "text/plain": [
              "<Figure size 640x480 with 1 Axes>"
            ]
          },
          "metadata": {},
          "output_type": "display_data"
        }
      ],
      "source": [
        "\n",
        "\n",
        "\n",
        "y_under.value_counts().plot(kind='bar');"
      ]
    },
    {
      "cell_type": "markdown",
      "metadata": {
        "id": "4PWJs4XCIUy0"
      },
      "source": [
        "nosso modelo obteve uma precisão de 98% e um recall 93% com uma acuracia de 95% podemos considerar que ele está tendo uma boa classificação em detectar fraude."
      ]
    },
    {
      "cell_type": "markdown",
      "metadata": {
        "id": "sRJmUsU5I2n0"
      },
      "source": [
        "##OVERSAMPLING SMOTE\n",
        "\n",
        "O método que replica as observações com menor quantidade para se equalizar em números de classificação,afim de se equalizar."
      ]
    },
    {
      "cell_type": "code",
      "execution_count": 11,
      "metadata": {
        "colab": {
          "base_uri": "https://localhost:8080/"
        },
        "id": "Yqz43pkQJiuB",
        "outputId": "a4325580-1af3-42a5-df52-3ebf97f24bcb"
      },
      "outputs": [
        {
          "name": "stdout",
          "output_type": "stream",
          "text": [
            "              precision    recall  f1-score   support\n",
            "\n",
            "           0       0.92      0.98      0.95     56751\n",
            "           1       0.97      0.92      0.95     56975\n",
            "\n",
            "    accuracy                           0.95    113726\n",
            "   macro avg       0.95      0.95      0.95    113726\n",
            "weighted avg       0.95      0.95      0.95    113726\n",
            "\n",
            "Acuracia com CV: 0.946 (0.001)\n"
          ]
        }
      ],
      "source": [
        "#aplicando a técnica de oversampling SMOTE.\n",
        "\n",
        "sm=SMOTE()\n",
        "\n",
        "X_over,y_over=sm.fit_resample(X,y)\n",
        "\n",
        "#separando conjunto de dados em treino e teste em 80/20.\n",
        "\n",
        "X_train, X_test, y_train, y_test = train_test_split(X_over,y_over, test_size = 0.2, random_state = 5)\n",
        "\n",
        "#aplicando ao modelo para obter a acuracia e o recall matriz de confusão\n",
        "\n",
        "modelo=LogisticRegression(max_iter=1000)\n",
        "\n",
        "#validação cruzada para classes desbalanceadas RepeatedStratifiedKFold\n",
        "cv=RepeatedStratifiedKFold(n_splits=10, n_repeats=3, random_state=5)\n",
        "\n",
        "scores = cross_val_score(modelo,X_over,y_over, scoring='accuracy', cv=cv, n_jobs=-1)\n",
        "\n",
        "#treino do modelo\n",
        "modelo.fit(X_train,y_train)\n",
        "pred=modelo.predict(X_test)\n",
        "\n",
        "print(classification_report(y_test, pred))\n",
        "print('Acuracia com CV: %.3f (%.3f)' % (mean(scores), std(scores)))"
      ]
    },
    {
      "cell_type": "code",
      "execution_count": 12,
      "metadata": {
        "colab": {
          "base_uri": "https://localhost:8080/",
          "height": 425
        },
        "id": "T_Aw6JC38J0i",
        "outputId": "d7411be2-5c8b-4dc6-ba31-860d398ac507"
      },
      "outputs": [
        {
          "data": {
            "image/png": "[encoded data removed]",
            "text/plain": [
              "<Figure size 640x480 with 1 Axes>"
            ]
          },
          "metadata": {},
          "output_type": "display_data"
        }
      ],
      "source": [
        "y_over.value_counts().plot(kind='bar');"
      ]
    },
    {
      "cell_type": "markdown",
      "metadata": {
        "id": "OUPfO9M-ZmBw"
      },
      "source": [
        "O modelo obteve uma precisão de 97% recall 92% e a acuracia de 95%, ele tem uma boa classificação em detectar dados de uma fraude."
      ]
    },
    {
      "cell_type": "markdown",
      "metadata": {
        "id": "N2sRnQLB92kk"
      },
      "source": [
        "##Conclusão\n",
        "\n",
        "O modelo de Regressão logistica obteve alta precisão e ótima acurácia aplicando os métodos de undersampling e oversampling para balancear as classes,nosso objetivo neste projeto foi alcançado. Como dito antes esse não é unico modelo que trabalhe com este tipo de dados, mais a explicação de seus parâmetros é mais facil."
      ]
    }
  ],
  "metadata": {
    "colab": {
      "provenance": []
    },
    "kernelspec": {
      "display_name": "Python 3",
      "name": "python3"
    },
    "language_info": {
      "name": "python"
    }
  },
  "nbformat": 4,
  "nbformat_minor": 0
}
